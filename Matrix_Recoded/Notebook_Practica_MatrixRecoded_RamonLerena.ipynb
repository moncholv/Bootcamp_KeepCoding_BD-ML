{
 "cells": [
  {
   "cell_type": "markdown",
   "metadata": {},
   "source": [
    "## El secreto perfecto\n",
    "\n",
    "Representa la encriptación de la adicción de un n-vector a un n-vector de GF(2)  \n",
    "\n",
    "<img src=\"Images/mortadelo-filemon.jpg\" style=\"width: 300px;\"/>\n",
    "\n",
    "Mortadelo y Filemón usan como clave el siguiente vector:  \n",
    "**k**=[0,1,0,0,1,0,1,0,1,0] \n",
    "\n",
    "Mortadelo quiere enviarle a Filemón el siguiente mensaje:  \n",
    "**p**=[0,0,0,1,1,1,0,1,0,1] \n",
    "\n",
    "Mortadelo encripta su mensaje añadiendo k: \n",
    "**c**=**p**+**k**=[0,0,0,1,1,1,0,1,0,1]+[0,1,0,0,1,0,1,0,1,0]=[0,1,0,1,0,1,1,1,1,1] \n",
    "\n",
    "Cuando Filemón recibe el mensaje, lo desencripta añadiendo **k** a lo que ha recibido \n",
    "**p**=**c**+**k**=[0,1,0,1,0,1,1,1,1,1]+[0,1,0,0,1,0,1,0,1,0]=[0,0,0,1,1,1,0,1,0,1]    \n",
    "\n",
    "que es el mensaje original.\n",
    "\n",
    "La idea es crear un procedimiento para que Filemón:\n",
    "* No tenga que hacer este proceso manualmente cada vez que Mortadelo le envíe un mensaje encriptado para descifrarlo\n",
    "* Si deciden cambiar la clave, que el procedimiento cambie mínimamente\n",
    "\n",
    "\n"
   ]
  },
  {
   "cell_type": "code",
   "execution_count": 14,
   "metadata": {},
   "outputs": [
    {
     "name": "stdout",
     "output_type": "stream",
     "text": [
      "El mensaje encriptado es: \n",
      "[0, 1, 0, 1, 0, 1, 1, 1, 1, 1]\n",
      "\n",
      "Comprobación de encriptación correcta\n"
     ]
    }
   ],
   "source": [
    "import numpy as np\n",
    "\n",
    "def encrypt(message, key=np.array([0,1,0,0,1,0,1,0,1,0])):\n",
    "    return[key[i] ^ message[i] for i in range(len(key))]\n",
    "\n",
    "#-- Comprobación con la clave inicial\n",
    "\n",
    "p = np.array([0,0,0,1,1,1,0,1,0,1])\n",
    "\n",
    "encrypted_message = encrypt(p)\n",
    "print(\"El mensaje encriptado es: \")\n",
    "print(encrypted_message)\n",
    "print()\n",
    "\n",
    "if np.array_equal(p, encrypt(encrypted_message)):\n",
    "    print(\"Comprobación de encriptación correcta\")\n",
    "else:\n",
    "    print(\"Comprobación de encriptación erronea\")\n"
   ]
  },
  {
   "cell_type": "code",
   "execution_count": 15,
   "metadata": {},
   "outputs": [
    {
     "name": "stdout",
     "output_type": "stream",
     "text": [
      "El mensaje encriptado es: \n",
      "[1, 1, 0, 1, 0, 1, 0, 0, 1, 1]\n",
      "\n",
      "Comprobación de encriptación: correcta\n"
     ]
    }
   ],
   "source": [
    "#-- Comprobación con otra clave\n",
    "\n",
    "k = np.array([1,1,0,0,1,0,0,1,1,0])\n",
    "\n",
    "encrypted_message_2=encrypt(p,k)\n",
    "\n",
    "print(\"El mensaje encriptado es: \")\n",
    "print(encrypted_message_2)\n",
    "print()\n",
    "\n",
    "if np.array_equal(p, encrypt(encrypted_message_2,k)):\n",
    "    print(\"Comprobación de encriptación: correcta\")\n",
    "else:\n",
    "    print(\"Comprobación de encriptación: erronea\")\n"
   ]
  },
  {
   "cell_type": "markdown",
   "metadata": {},
   "source": [
    "## ¿Cuánto cuesta hacer una cerveza?\n",
    "\n",
    "<img src=\"images/cerveza.jpg\" style=\"width: 300px;\"/>\n",
    "\n",
    "Supongamos que D es el conjunto de algunos ingredientes de la cerveza: \n",
    "> D={lúpulo, malta, agua, levadura} \n",
    "\n",
    "Por otro lado tenemos el vector coste:\n",
    "> coste={lúpulo: 2,5€, malta: 1.5€, agua: 0.006€, levadura: 0,45€}  \n",
    "\n",
    "Por último tenemos el vector cantidad con lo necesario para hacer una cerveza:\n",
    "> cantidad={lúpulo: 6u, malta: 14u, agua: 7u, levadura: 11u} \n",
    "\n",
    "¿Cuánto cuesta hacer una cerveza?"
   ]
  },
  {
   "cell_type": "code",
   "execution_count": 17,
   "metadata": {},
   "outputs": [
    {
     "name": "stdout",
     "output_type": "stream",
     "text": [
      "El coste de hacer una cerveza es 40.99€\n"
     ]
    }
   ],
   "source": [
    "import numpy as np\n",
    "\n",
    "def calc(v,w):\n",
    "    return[v[i] * w[i] for i in range(len(v))]\n",
    "\n",
    "cost=np.array([2.5,1.5,0.006,0.45])\n",
    "quantity=np.array([6,14,7,11])\n",
    "\n",
    "calculation=calc(cost,quantity)\n",
    "suma=sum(calculation)\n",
    "print('El coste de hacer una cerveza es '+ str(round(suma,2)) + '€')"
   ]
  },
  {
   "cell_type": "markdown",
   "metadata": {},
   "source": [
    "## La carrera de caballos\n",
    "\n",
    "Tres caballos A, B y C compiten en una carrera.  \n",
    "Las apuestas para dar como vencedor a cada uno de ellos son de 4 a 1 para A, 3 a 1 para B y 2 a 1 para C, tomando las unidades siempre en euros.  \n",
    "¿Cuántop debo apostar por cada caballo para asegurarme recibir 13 euros en toal, sin importar qué csaballo gane la carrera?"
   ]
  },
  {
   "cell_type": "markdown",
   "metadata": {},
   "source": [
    "Sean x,y,z el dinero apostado por los caballos A, B y C respectivamente.\n",
    "El objetivo del problema es calcular la cantidad que debe apostarse por cada caballo de forma que la suma del dinero recibido y perdido en las apuestas sea siempre igual a 13€.  \n",
    "Así, podemos plantear un sistema de tres ecuaciones con tres incógnitas, en el que igualaremos matemáticamente la cantidad percibida por la victoria de los caballos A, B, C y, al mismo tiempo, señalaremos que esta cantidad corresponde a 13€.  \n",
    "\n",
    "> 4x-y-z=3y-x-z  \n",
    "> 3y-x-z=2z-x-y  \n",
    "> 2z-x-y=13\n"
   ]
  },
  {
   "cell_type": "code",
   "execution_count": 18,
   "metadata": {},
   "outputs": [
    {
     "name": "stdout",
     "output_type": "stream",
     "text": [
      "Las dos matrices tienen el mismo rango.\n",
      "Al ser el rango 3, nos encontramos con un sistema compatible determinado.\n",
      "\n",
      "Las cantidades a apostar son las siguientes:\n",
      "Caballo A: [12.0]\n",
      "Caballo B: [15.0]\n",
      "Caballo C: [20.0]\n"
     ]
    }
   ],
   "source": [
    "import numpy as np\n",
    "A=np.matrix([\n",
    "    [5,-4,0],\n",
    "    [0,4,-3],\n",
    "    [-1,-1,2]\n",
    "   ])\n",
    "\n",
    "B=([\n",
    "    [0],[0],[13]\n",
    "])\n",
    "\n",
    "#La matriz ampliada es:\n",
    "# [5   -4   0  |  0]\n",
    "# [0    4  -3  |  0]\n",
    "# [-1  -1   2  | 13]\n",
    "\n",
    "A_amp = np.matrix([\n",
    "    [5, -4, 0, 0],\n",
    "    [0, 4, -3, 0],\n",
    "    [-1, -1, 2, 13]\n",
    "])\n",
    "\n",
    "if np.linalg.matrix_rank(A) == np.linalg.matrix_rank(A_amp):\n",
    "    print(\"Las dos matrices tienen el mismo rango.\")\n",
    "    \n",
    "    rango = np.linalg.matrix_rank(A)\n",
    "    system = \"indeterminado\"\n",
    "    if rango == 3 : system = \"determinado\"\n",
    "    \n",
    "    print(\"Al ser el rango %s, nos encontramos con un sistema compatible %s.\" % (rango, system))\n",
    "    \n",
    "    print(\"\\nLas cantidades a apostar son las siguientes:\")\n",
    "    \n",
    "    if system == \"determinado\":\n",
    "        bets = np.around(np.linalg.solve(A, B), 0)\n",
    "        list_bets = bets.tolist()\n",
    "        list_horses = ['A', 'B', 'C']\n",
    "        bets_values = dict(zip(list_horses, list_bets))\n",
    "\n",
    "        for key, value in bets_values.items():\n",
    "            print(\"Caballo %s: %s\" % (key, value))\n",
    "    else:\n",
    "        print(\"Habría que desarrollar la parte indeterminada.\")\n",
    "    \n",
    "else:\n",
    "    print(\"Las dos matrices no tienen el mismo rango.\")\n"
   ]
  },
  {
   "cell_type": "markdown",
   "metadata": {},
   "source": [
    "## Criptografía\n",
    "\n",
    "A=1\n",
    "B=2\n",
    "C=3\n",
    "D=4\n",
    "E=5\n",
    "F=6\n",
    "G=7\n",
    "H=8\n",
    "I=9\n",
    "J=10\n",
    "K=11\n",
    "L=12\n",
    "M=13\n",
    "N=14\n",
    "Ñ=15\n",
    "O=16\n",
    "P=17\n",
    "Q=18\n",
    "R=19\n",
    "S=20\n",
    "T=21\n",
    "U=22\n",
    "V=23\n",
    "W=24\n",
    "X=25\n",
    "Y=26\n",
    "Z=27\n",
    "espacio=28\n",
    "\n",
    "'ALGEBRA LINEAL CON PYTHON'  \n",
    "1 12 7 5 2 19 1 28 12 9 14 5 1 12 28 3 16 14 28 17 26 21 8 16 14  \n",
    "Agrupar la cifras en grupos de tres:  \n",
    "(1,12,7) (5,2,19) (1,28,12) (9,14,5) (1,12,28) (3,16,14) (28,17,26) (21,8,16) (14,0,0)  \n",
    "\n",
    "Le vamos a aplicar la siguiente transformación:  \n",
    "$A=\n",
    "  \\left[ {\\begin{array}{cc}\n",
    "   2 & 5 & 3\\\\\n",
    "   1 & 3 & 2\\\\\n",
    "   3 & 6 & 4\\\\\n",
    "  \\end{array} } \\right]$\n",
    "\n",
    "Queremos saber el mensaje enviado y cómo descifrarlo\n",
    "  "
   ]
  },
  {
   "cell_type": "code",
   "execution_count": 28,
   "metadata": {},
   "outputs": [
    {
     "name": "stdout",
     "output_type": "stream",
     "text": [
      "Mensaje a cifrar:\n",
      "ALGEBRA LINEAL CON PYTHON\n",
      "\n",
      "Mensaje cifrado:\n",
      "FXYK#HHOSQAPKFVFBJF RKUZ LM\n",
      "\n",
      "Mensaje descifrado:\n",
      "ALGEBRA LINEAL CON PYTHON\n",
      "\n",
      "El mensaje a cifrar y el descifrado son iguales\n"
     ]
    }
   ],
   "source": [
    "import numpy as np\n",
    "\n",
    "encryption = {\"A\":1, \"B\":2, \"C\":3, \"D\":4, \"E\":5, \"F\":6, \"G\":7, \"H\":8, \"I\":9, \"J\":10, \"K\":11, \n",
    "              \"L\":12, \"M\":13, \"N\":14, \"Ñ\":15, \"O\":16, \"P\":17, \"Q\":18, \"R\":19, \"S\":20, \"T\":21, \n",
    "              \"U\":22, \"V\":23, \"W\":24, \"X\":25, \"Y\":26, \"Z\":27, \" \":28, \"#\":0}\n",
    "              #Hemos añadido 0 al no ser múltiplo de tres.\n",
    "\n",
    "def build_matrix(text):\n",
    "    i, j, k = 0, 0, 0\n",
    "    text_length = len(text)    \n",
    "    matrix =  np.matrix(np.empty(shape=(0,3), dtype=int))\n",
    "    \n",
    "    while i < text_length:\n",
    "        vector = [0, 0, 0]\n",
    "        \n",
    "        while j < 3:\n",
    "          if i == text_length:\n",
    "            break   \n",
    "          else:\n",
    "            vector[j] = translator[text[i]]\n",
    "            \n",
    "            i += 1\n",
    "            j += 1\n",
    "            \n",
    "        matrix = np.insert(matrix, k, vector, axis = 0)\n",
    "        k += 1\n",
    "        j = 0\n",
    "        \n",
    "    return matrix\n",
    "\n",
    "def numbers_letters(value, dictionary = encryption):\n",
    "    result= [k for k, e in dictionary.items() if e == value]\n",
    "    return result\n",
    "\n",
    "def matrix_text(num_matrix):\n",
    "    size_matrix = num_matrix.shape\n",
    "    message = \"\"\n",
    "    \n",
    "    for i1 in range(size_matrix[0]):\n",
    "        for i2 in range(size_matrix[1]):\n",
    "            encrypted = numbers_letters(num_matrix[i1, i2])[0]\n",
    "            message += encrypted\n",
    "        \n",
    "    return message\n",
    "\n",
    "\n",
    "transform_matrix = np.matrix([\n",
    "                              [2, 5, 3],\n",
    "                              [1, 3, 2],\n",
    "                              [3, 6, 4]\n",
    "])\n",
    "\n",
    "text_encrypt = \"ALGEBRA LINEAL CON PYTHON\"\n",
    "message_matrix = build_matrix(text_encrypt)\n",
    "encrypted_letters = matrix_text((message_matrix * transform_matrix) % 29)\n",
    "\n",
    "inv_trans = np.linalg.inv(transform_matrix)\n",
    "inv_trans_numbers =  np.matrix(np.empty(shape=(3,3), dtype=int))\n",
    "\n",
    "for i in range(inv_trans.shape[0]):\n",
    "    for j in range(inv_trans.shape[1]):\n",
    "        inv_trans_numbers[i,j] = int(round(inv_trans[i,j]))\n",
    "\n",
    "encrypted_transform = build_matrix(encrypted_letters)\n",
    "initial_text_num = (encrypted_transform * inv_trans_numbers) % 29\n",
    "initial_text = matrix_text(initial_text_num).replace(\"#\",\"\")\n",
    "\n",
    "print(\"Mensaje a cifrar:\\n%s\" % (text_encrypt))\n",
    "print(\"\\nMensaje cifrado:\\n%s\" % (encrypted_letters))\n",
    "print(\"\\nMensaje descifrado:\\n%s\" % (initial_text))\n",
    "\n",
    "result = \"distintos\"\n",
    "if text_encrypt == initial_text : result = \"iguales\"\n",
    "\n",
    "print(\"\\nEl mensaje a cifrar y el descifrado son %s\" % result)\n"
   ]
  },
  {
   "cell_type": "markdown",
   "metadata": {},
   "source": [
    "## Bosque de extensión mínima\n",
    "\n",
    "<img src=\"Images/bosque.png\" style=\"width: 800px;\"/>\n",
    "\n",
    "En clase hemos hecho el caso del grafo de la derecha. Le toca el turno al de la izquierda.\n",
    "Supongamos que queremos diseñar la red de internet para el otro campus universitario.  \n",
    "La red debe lograr la misma conectividad que el grafo de entrada.  \n",
    "Una arista representa un posible cable.  \n",
    "El peso de la arista es el coste de instalar el cable.  \n",
    "Nuestro objetivo es minimizar el coste total, usando el algoritmo Grow y el algoritmo Shrink."
   ]
  },
  {
   "cell_type": "code",
   "execution_count": 33,
   "metadata": {
    "scrolled": true
   },
   "outputs": [
    {
     "name": "stdout",
     "output_type": "stream",
     "text": [
      "\n",
      " --- Algoritmo Grow ---\n",
      "\n",
      " Ponemos las aristas en orden ascendente -> 2, 7, 9\n",
      " Vamos cogiendo la de menor valor para ir añadiendo todos los puntos.\n",
      " 1) {Pembroke Campus, Bio-Med} --> Ya tenemos dos puntos, solo falta 'Athletic Complex'\n",
      " 2) {Pembroke Campus, Athletic Complex} --> Hemos cogido la de menor peso.\n",
      "\n",
      "Algoritmo Grow --> S = {{Pembroke Campus, Bio-Med}, {Pembroke Campus, Athletic Complex}}\n",
      "\n",
      " --- Algoritmo Shrink ---\n",
      "\n",
      " Ponemos las aristas en orden descendente -> 9, 7, 2\n",
      " 1) Quitamos la que más pesa --> { Athletic Complex, Bio-Med }\n",
      " 2) La siguiente con más peso es --> { Athletic Complex, Pembroke Campus } pero no se\n",
      "    puede quitar porque no se podría llegar a 'Bio-Med'\n",
      "\n",
      "Algoritmo Shrink --> S = {{Pembroke Campus, Athletic Complex}, {Pembroke Campus, Bio-Med}}\n",
      "\n"
     ]
    }
   ],
   "source": [
    "print(\"\\n --- Algoritmo Grow ---\\n\")\n",
    "\n",
    "print(\" Ponemos las aristas en orden ascendente -> 2, 7, 9\")\n",
    "print(\" Vamos cogiendo la de menor valor para ir añadiendo todos los puntos.\")\n",
    "print(\" 1) {Pembroke Campus, Bio-Med} --> Ya tenemos dos puntos, solo falta 'Athletic Complex'\")\n",
    "print(\" 2) {Pembroke Campus, Athletic Complex} --> Hemos cogido la de menor peso.\\n\")\n",
    "\n",
    "print(\"Algoritmo Grow --> S = {{Pembroke Campus, Bio-Med}, {Pembroke Campus, Athletic Complex}}\")\n",
    "print()\n",
    "\n",
    "print(\" --- Algoritmo Shrink ---\\n\")\n",
    "\n",
    "print(\" Ponemos las aristas en orden descendente -> 9, 7, 2\")\n",
    "print(\" 1) Quitamos la que más pesa --> { Athletic Complex, Bio-Med }\")\n",
    "print(\" 2) La siguiente con más peso es --> { Athletic Complex, Pembroke Campus } pero no se\")\n",
    "print(\"    puede quitar porque no se podría llegar a 'Bio-Med'\\n\")\n",
    "\n",
    "print(\"Algoritmo Shrink --> S = {{Pembroke Campus, Athletic Complex}, {Pembroke Campus, Bio-Med}}\\n\")"
   ]
  },
  {
   "cell_type": "markdown",
   "metadata": {},
   "source": []
  },
  {
   "cell_type": "markdown",
   "metadata": {},
   "source": [
    "## Dimensión de matrices\n",
    "\n",
    "Sea la matriz $\n",
    "  M=\n",
    "  \\left[ {\\begin{array}{cc}\n",
    "   1 & 0  & 0 & 5 \\\\\n",
    "   0 & 2  & 0 & 7 \\\\\n",
    "   0 & 0  & 3 & 9 \\\\\n",
    "  \\end{array} } \\right]\n",
    "$. Calcular el rango por filas y por columnas usando Python."
   ]
  },
  {
   "cell_type": "code",
   "execution_count": 7,
   "metadata": {},
   "outputs": [
    {
     "name": "stdout",
     "output_type": "stream",
     "text": [
      "El rango tanto por filas como columnas es 3\n"
     ]
    }
   ],
   "source": [
    "import numpy as np\n",
    "M=np.matrix([\n",
    "    [1,0,0,5],\n",
    "    [0,2,0,7],\n",
    "    [0,0,3,9]\n",
    "])\n",
    "\n",
    "print(\"El rango tanto por filas como columnas es %s\" % np.linalg.matrix_rank(M))\n"
   ]
  }
 ],
 "metadata": {
  "kernelspec": {
   "display_name": "Python 3",
   "language": "python",
   "name": "python3"
  },
  "language_info": {
   "codemirror_mode": {
    "name": "ipython",
    "version": 3
   },
   "file_extension": ".py",
   "mimetype": "text/x-python",
   "name": "python",
   "nbconvert_exporter": "python",
   "pygments_lexer": "ipython3",
   "version": "3.7.0"
  }
 },
 "nbformat": 4,
 "nbformat_minor": 2
}
